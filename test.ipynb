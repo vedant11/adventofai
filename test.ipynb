{
 "cells": [
  {
   "cell_type": "code",
   "execution_count": 12,
   "metadata": {},
   "outputs": [
    {
     "name": "stdout",
     "output_type": "stream",
     "text": [
      "Response from PHI3:\n",
      "\"The sky typically appears blue during the day under clear conditions due to Rayleigh scattering, which scatters shorter wavelength blue and violet light from the sun more than the longer wavelength red. However, the actual color of the sky can vary depending on weather conditions, time of day, and altitude. At sunrise and sunset, the sky can take on hues of red, orange, and pink. During sunset and sunrise, the presence of more atmospheric particles scatters the sunlight in a way that makes these colors more prominent. At night, the sky is perceived as black because the sun's light is blocked, and it's dark outside.\"\n"
     ]
    }
   ],
   "source": [
    "import requests\n",
    "import json\n",
    "\n",
    "# Constants for the PHI3 API\n",
    "PHI3_URL = \"https://cu-vertical-dimensional-continuity.trycloudflare.com/phi3/generate\"\n",
    "PHI3_TOKEN = \"AEulafWZQ1xhIkeLgjcp5nhL7d0cLPWiXAU34DTVvXI\"  # Token provided in the API docs\n",
    "\n",
    "def query_phi3(prompt):\n",
    "    # Set up headers for the request\n",
    "    headers = {\n",
    "        \"Authorization\": f\"Bearer {PHI3_TOKEN}\",\n",
    "        \"Content-Type\": \"application/json\"\n",
    "    }\n",
    "\n",
    "    # Create the payload with the prompt\n",
    "    payload = {\n",
    "        \"inputs\": f\"<|system|>\\nYou are an expert assistant who helps the user answer his query. <|end|>\\n<|user|>\\n{prompt}<|end|>\\n<|assistant|>\",\n",
    "        \"parameters\":{\n",
    "            \"max_new_tokens\": 150,  # Adjust as necessary for your use case\n",
    "            \"temperature\": 0.8\n",
    "        }\n",
    "    }\n",
    "\n",
    "    try:\n",
    "        # Send POST request to the PHI3 API\n",
    "        response = requests.post(PHI3_URL, headers=headers, data=json.dumps(payload))\n",
    "        # Check if the request was successful\n",
    "        if response.status_code == 200:\n",
    "            # Parse and return the JSON response\n",
    "            return response.json()['generated_text']\n",
    "        else:\n",
    "            print(f\"Error: {response.status_code} - {response.text}\")\n",
    "            return None\n",
    "\n",
    "    except Exception as e:\n",
    "        print(f\"An error occurred: {e}\")\n",
    "        return None\n",
    "\n",
    "# Example usage\n",
    "if __name__ == \"__main__\":\n",
    "    user_prompt = \"What is the color of the sky?\"\n",
    "    result = query_phi3(user_prompt)\n",
    "\n",
    "    if result:\n",
    "        print(\"Response from PHI3:\")\n",
    "        print(json.dumps(result, indent=2))  # Pretty-print the JSON response\n"
   ]
  }
 ],
 "metadata": {
  "kernelspec": {
   "display_name": "Python 3 (ipykernel)",
   "language": "python",
   "name": "python3"
  },
  "language_info": {
   "codemirror_mode": {
    "name": "ipython",
    "version": 3
   },
   "file_extension": ".py",
   "mimetype": "text/x-python",
   "name": "python",
   "nbconvert_exporter": "python",
   "pygments_lexer": "ipython3",
   "version": "3.10.12"
  }
 },
 "nbformat": 4,
 "nbformat_minor": 2
}
